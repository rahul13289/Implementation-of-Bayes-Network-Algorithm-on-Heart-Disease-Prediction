{
  "nbformat": 4,
  "nbformat_minor": 0,
  "metadata": {
    "colab": {
      "provenance": []
    },
    "kernelspec": {
      "name": "python3",
      "display_name": "Python 3"
    },
    "language_info": {
      "name": "python"
    }
  },
  "cells": [
    {
      "cell_type": "code",
      "source": [
        "!pip install pgmpy"
      ],
      "metadata": {
        "colab": {
          "base_uri": "https://localhost:8080/"
        },
        "id": "_jh0kaVHoDAt",
        "outputId": "d09c644c-3ba4-4c93-ea84-680f527606c2"
      },
      "execution_count": null,
      "outputs": [
        {
          "output_type": "stream",
          "name": "stdout",
          "text": [
            "Looking in indexes: https://pypi.org/simple, https://us-python.pkg.dev/colab-wheels/public/simple/\n",
            "Requirement already satisfied: pgmpy in /usr/local/lib/python3.9/dist-packages (0.1.21)\n",
            "Requirement already satisfied: pyparsing in /usr/local/lib/python3.9/dist-packages (from pgmpy) (3.0.9)\n",
            "Requirement already satisfied: pandas in /usr/local/lib/python3.9/dist-packages (from pgmpy) (1.4.4)\n",
            "Requirement already satisfied: opt-einsum in /usr/local/lib/python3.9/dist-packages (from pgmpy) (3.3.0)\n",
            "Requirement already satisfied: networkx in /usr/local/lib/python3.9/dist-packages (from pgmpy) (3.0)\n",
            "Requirement already satisfied: torch in /usr/local/lib/python3.9/dist-packages (from pgmpy) (1.13.1+cu116)\n",
            "Requirement already satisfied: scikit-learn in /usr/local/lib/python3.9/dist-packages (from pgmpy) (1.2.2)\n",
            "Requirement already satisfied: statsmodels in /usr/local/lib/python3.9/dist-packages (from pgmpy) (0.13.5)\n",
            "Requirement already satisfied: joblib in /usr/local/lib/python3.9/dist-packages (from pgmpy) (1.1.1)\n",
            "Requirement already satisfied: numpy in /usr/local/lib/python3.9/dist-packages (from pgmpy) (1.22.4)\n",
            "Requirement already satisfied: tqdm in /usr/local/lib/python3.9/dist-packages (from pgmpy) (4.65.0)\n",
            "Requirement already satisfied: scipy in /usr/local/lib/python3.9/dist-packages (from pgmpy) (1.10.1)\n",
            "Requirement already satisfied: python-dateutil>=2.8.1 in /usr/local/lib/python3.9/dist-packages (from pandas->pgmpy) (2.8.2)\n",
            "Requirement already satisfied: pytz>=2020.1 in /usr/local/lib/python3.9/dist-packages (from pandas->pgmpy) (2022.7.1)\n",
            "Requirement already satisfied: threadpoolctl>=2.0.0 in /usr/local/lib/python3.9/dist-packages (from scikit-learn->pgmpy) (3.1.0)\n",
            "Requirement already satisfied: packaging>=21.3 in /usr/local/lib/python3.9/dist-packages (from statsmodels->pgmpy) (23.0)\n",
            "Requirement already satisfied: patsy>=0.5.2 in /usr/local/lib/python3.9/dist-packages (from statsmodels->pgmpy) (0.5.3)\n",
            "Requirement already satisfied: typing-extensions in /usr/local/lib/python3.9/dist-packages (from torch->pgmpy) (4.5.0)\n",
            "Requirement already satisfied: six in /usr/local/lib/python3.9/dist-packages (from patsy>=0.5.2->statsmodels->pgmpy) (1.16.0)\n"
          ]
        }
      ]
    },
    {
      "cell_type": "code",
      "source": [
        "import numpy as np\n",
        "import pandas as pd\n",
        "from pgmpy.models import BayesianModel\n",
        "from pgmpy.estimators import MaximumLikelihoodEstimator\n",
        "from pgmpy.inference import VariableElimination"
      ],
      "metadata": {
        "id": "c1CNokhrnE3F"
      },
      "execution_count": null,
      "outputs": []
    },
    {
      "cell_type": "code",
      "source": [
        "# Load the heart disease data from a CSV file\n",
        "data = pd.read_excel('heart2.xlsx')"
      ],
      "metadata": {
        "id": "44RQIVk8e1tL"
      },
      "execution_count": null,
      "outputs": []
    },
    {
      "cell_type": "code",
      "source": [
        "#display the data\n",
        "print('Few examples from the dataset are given below')\n",
        "print(data.head())"
      ],
      "metadata": {
        "colab": {
          "base_uri": "https://localhost:8080/"
        },
        "id": "f0fPxIjbg4sl",
        "outputId": "e287c9d0-6dc6-4c81-d1a3-5b497298685c"
      },
      "execution_count": null,
      "outputs": [
        {
          "output_type": "stream",
          "name": "stdout",
          "text": [
            "Few examples from the dataset are given below\n",
            "   age sex exang  cp  restecg  chol  heartdisease\n",
            "0   63   M     N   4        2   233             1\n",
            "1   67   F     Y   3        2   286             0\n",
            "2   67   M     Y   4        2   229             1\n",
            "3   37   F     N   3        0   250             0\n",
            "4   41   M     N   2        2   204             0\n"
          ]
        }
      ]
    },
    {
      "cell_type": "code",
      "source": [
        "# Define the Bayesian network structure\n",
        "model = BayesianModel([('age', 'heartdisease'), ('sex', 'heartdisease'), ('exang', 'heartdisease'), ('cp', 'heartdisease'), ('heartdisease', 'restecg'), ('heartdisease', 'chol')])"
      ],
      "metadata": {
        "colab": {
          "base_uri": "https://localhost:8080/"
        },
        "id": "Ry2VmaONe5NS",
        "outputId": "7db7731f-a3e1-442c-d968-2601468623fd"
      },
      "execution_count": null,
      "outputs": [
        {
          "output_type": "stream",
          "name": "stderr",
          "text": [
            "/usr/local/lib/python3.9/dist-packages/pgmpy/models/BayesianModel.py:8: FutureWarning: BayesianModel has been renamed to BayesianNetwork. Please use BayesianNetwork class, BayesianModel will be removed in future.\n",
            "  warnings.warn(\n"
          ]
        }
      ]
    },
    {
      "cell_type": "code",
      "source": [
        "# Estimate the parameters using maximum likelihood estimation\n",
        "model.fit(data, estimator=MaximumLikelihoodEstimator)"
      ],
      "metadata": {
        "id": "twVHrJtVfMwV"
      },
      "execution_count": null,
      "outputs": []
    },
    {
      "cell_type": "code",
      "source": [
        "# Print the learned CPDs (conditional probability distributions)\n",
        "for cpd in model.get_cpds():\n",
        "    print(cpd)"
      ],
      "metadata": {
        "colab": {
          "base_uri": "https://localhost:8080/"
        },
        "id": "zHrLM6RUfPta",
        "outputId": "2eed5a11-bf61-4efb-8eb9-8d6631ba0570"
      },
      "execution_count": null,
      "outputs": [
        {
          "output_type": "stream",
          "name": "stdout",
          "text": [
            "+---------+-----+\n",
            "| age(37) | 0.1 |\n",
            "+---------+-----+\n",
            "| age(41) | 0.1 |\n",
            "+---------+-----+\n",
            "| age(53) | 0.1 |\n",
            "+---------+-----+\n",
            "| age(56) | 0.1 |\n",
            "+---------+-----+\n",
            "| age(57) | 0.1 |\n",
            "+---------+-----+\n",
            "| age(62) | 0.1 |\n",
            "+---------+-----+\n",
            "| age(63) | 0.2 |\n",
            "+---------+-----+\n",
            "| age(67) | 0.2 |\n",
            "+---------+-----+\n",
            "+-----------------+----------+-----+----------+----------+----------+\n",
            "| age             | age(37)  | ... | age(67)  | age(67)  | age(67)  |\n",
            "+-----------------+----------+-----+----------+----------+----------+\n",
            "| cp              | cp(2)    | ... | cp(4)    | cp(4)    | cp(4)    |\n",
            "+-----------------+----------+-----+----------+----------+----------+\n",
            "| exang           | exang(N) | ... | exang(N) | exang(Y) | exang(Y) |\n",
            "+-----------------+----------+-----+----------+----------+----------+\n",
            "| sex             | sex(F)   | ... | sex(M)   | sex(F)   | sex(M)   |\n",
            "+-----------------+----------+-----+----------+----------+----------+\n",
            "| heartdisease(0) | 0.5      | ... | 0.5      | 0.5      | 0.0      |\n",
            "+-----------------+----------+-----+----------+----------+----------+\n",
            "| heartdisease(1) | 0.5      | ... | 0.5      | 0.5      | 1.0      |\n",
            "+-----------------+----------+-----+----------+----------+----------+\n",
            "+--------+-----+\n",
            "| sex(F) | 0.4 |\n",
            "+--------+-----+\n",
            "| sex(M) | 0.6 |\n",
            "+--------+-----+\n",
            "+----------+-----+\n",
            "| exang(N) | 0.5 |\n",
            "+----------+-----+\n",
            "| exang(Y) | 0.5 |\n",
            "+----------+-----+\n",
            "+-------+-----+\n",
            "| cp(2) | 0.2 |\n",
            "+-------+-----+\n",
            "| cp(3) | 0.2 |\n",
            "+-------+-----+\n",
            "| cp(4) | 0.6 |\n",
            "+-------+-----+\n",
            "+--------------+--------------------+--------------------+\n",
            "| heartdisease | heartdisease(0)    | heartdisease(1)    |\n",
            "+--------------+--------------------+--------------------+\n",
            "| restecg(0)   | 0.3333333333333333 | 0.2857142857142857 |\n",
            "+--------------+--------------------+--------------------+\n",
            "| restecg(2)   | 0.6666666666666666 | 0.7142857142857143 |\n",
            "+--------------+--------------------+--------------------+\n",
            "+--------------+--------------------+---------------------+\n",
            "| heartdisease | heartdisease(0)    | heartdisease(1)     |\n",
            "+--------------+--------------------+---------------------+\n",
            "| chol(203)    | 0.0                | 0.14285714285714285 |\n",
            "+--------------+--------------------+---------------------+\n",
            "| chol(204)    | 0.3333333333333333 | 0.0                 |\n",
            "+--------------+--------------------+---------------------+\n",
            "| chol(229)    | 0.0                | 0.14285714285714285 |\n",
            "+--------------+--------------------+---------------------+\n",
            "| chol(233)    | 0.0                | 0.14285714285714285 |\n",
            "+--------------+--------------------+---------------------+\n",
            "| chol(236)    | 0.0                | 0.14285714285714285 |\n",
            "+--------------+--------------------+---------------------+\n",
            "| chol(250)    | 0.3333333333333333 | 0.0                 |\n",
            "+--------------+--------------------+---------------------+\n",
            "| chol(254)    | 0.0                | 0.14285714285714285 |\n",
            "+--------------+--------------------+---------------------+\n",
            "| chol(268)    | 0.0                | 0.14285714285714285 |\n",
            "+--------------+--------------------+---------------------+\n",
            "| chol(286)    | 0.3333333333333333 | 0.0                 |\n",
            "+--------------+--------------------+---------------------+\n",
            "| chol(354)    | 0.0                | 0.14285714285714285 |\n",
            "+--------------+--------------------+---------------------+\n"
          ]
        }
      ]
    },
    {
      "cell_type": "code",
      "source": [
        "# Query the model to predict heart disease given some evidence\n",
        "infer = VariableElimination(model)"
      ],
      "metadata": {
        "id": "nyISA3oGfSsf"
      },
      "execution_count": null,
      "outputs": []
    },
    {
      "cell_type": "code",
      "source": [
        "#computing the Probability of HeartDisease given Age\n",
        "print('\\n 1. Probability of HeartDisease given Age=63')\n",
        "query = infer.query(['heartdisease'], evidence={'age': 63, 'sex': 'M', 'exang': 'N'})\n",
        "print(query)"
      ],
      "metadata": {
        "colab": {
          "base_uri": "https://localhost:8080/"
        },
        "id": "STPHZ70NfemO",
        "outputId": "434ea93c-614a-4567-859a-ac0000fc9fe3"
      },
      "execution_count": null,
      "outputs": [
        {
          "output_type": "stream",
          "name": "stdout",
          "text": [
            "\n",
            " 1. Probability of HeartDisease given Age=63\n",
            "+-----------------+---------------------+\n",
            "| heartdisease    |   phi(heartdisease) |\n",
            "+=================+=====================+\n",
            "| heartdisease(0) |              0.2000 |\n",
            "+-----------------+---------------------+\n",
            "| heartdisease(1) |              0.8000 |\n",
            "+-----------------+---------------------+\n"
          ]
        },
        {
          "output_type": "stream",
          "name": "stderr",
          "text": [
            "/usr/local/lib/python3.9/dist-packages/pgmpy/models/BayesianModel.py:8: FutureWarning: BayesianModel has been renamed to BayesianNetwork. Please use BayesianNetwork class, BayesianModel will be removed in future.\n",
            "  warnings.warn(\n"
          ]
        }
      ]
    },
    {
      "cell_type": "code",
      "source": [
        "#computing the Probability of HeartDisease given cholesterol\n",
        "print('\\n 2. Probability of HeartDisease given cholesterol=100')\n",
        "query = infer.query(['chol'], evidence={'age': 63, 'sex': 'M', 'exang': 'N'})\n",
        "print(query)"
      ],
      "metadata": {
        "colab": {
          "base_uri": "https://localhost:8080/"
        },
        "id": "7PFBACm_f4wR",
        "outputId": "497301f0-4f08-4d37-98bc-79a8c90dc22a"
      },
      "execution_count": null,
      "outputs": [
        {
          "output_type": "stream",
          "name": "stdout",
          "text": [
            "\n",
            " 2. Probability of HeartDisease given cholesterol=100\n",
            "+-----------+-------------+\n",
            "| chol      |   phi(chol) |\n",
            "+===========+=============+\n",
            "| chol(203) |      0.1143 |\n",
            "+-----------+-------------+\n",
            "| chol(204) |      0.0667 |\n",
            "+-----------+-------------+\n",
            "| chol(229) |      0.1143 |\n",
            "+-----------+-------------+\n",
            "| chol(233) |      0.1143 |\n",
            "+-----------+-------------+\n",
            "| chol(236) |      0.1143 |\n",
            "+-----------+-------------+\n",
            "| chol(250) |      0.0667 |\n",
            "+-----------+-------------+\n",
            "| chol(254) |      0.1143 |\n",
            "+-----------+-------------+\n",
            "| chol(268) |      0.1143 |\n",
            "+-----------+-------------+\n",
            "| chol(286) |      0.0667 |\n",
            "+-----------+-------------+\n",
            "| chol(354) |      0.1143 |\n",
            "+-----------+-------------+\n"
          ]
        }
      ]
    }
  ]
}